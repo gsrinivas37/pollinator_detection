{
 "cells": [
  {
   "cell_type": "code",
   "execution_count": 1,
   "id": "253d579b",
   "metadata": {},
   "outputs": [
    {
     "name": "stderr",
     "output_type": "stream",
     "text": [
      "2023-04-29 03:30:37.727925: I tensorflow/core/platform/cpu_feature_guard.cc:182] This TensorFlow binary is optimized to use available CPU instructions in performance-critical operations.\n",
      "To enable the following instructions: AVX2 FMA, in other operations, rebuild TensorFlow with the appropriate compiler flags.\n"
     ]
    }
   ],
   "source": [
    "from shared import *"
   ]
  },
  {
   "cell_type": "code",
   "execution_count": 2,
   "id": "d5f9acc8",
   "metadata": {},
   "outputs": [],
   "source": [
    "root_dir = '/Users/gsrinivas37/Old_Download/Pollinators-18_COCO_640x640_aug_null_nf/test'"
   ]
  },
  {
   "cell_type": "code",
   "execution_count": 4,
   "id": "5a507f59",
   "metadata": {},
   "outputs": [
    {
     "name": "stdout",
     "output_type": "stream",
     "text": [
      "Loading model...Done! Took 20.457263946533203 seconds\n",
      "loading annotations into memory...\n",
      "Done (t=0.00s)\n",
      "creating index...\n",
      "index created!\n"
     ]
    },
    {
     "name": "stderr",
     "output_type": "stream",
     "text": [
      "2023-04-29 03:31:17.422446: I tensorflow/core/common_runtime/executor.cc:1197] [/device:CPU:0] (DEBUG INFO) Executor start aborting (this does not indicate an error and you can ignore this message): INVALID_ARGUMENT: You must feed a value for placeholder tensor 'input_tensor' with dtype uint8 and shape [1,?,?,3]\n",
      "\t [[{{node input_tensor}}]]\n"
     ]
    },
    {
     "name": "stdout",
     "output_type": "stream",
     "text": [
      "Found more than one...\n",
      "Total Accuracy is: 0.6208053691275168\n",
      "Accuracy for class 1 (Count: 51) is: 0.0\n",
      "Accuracy for class 2 (Count: 31) is: 0.0\n",
      "Accuracy for class 3 (Count: 107) is: 0.9906542056074766\n",
      "Accuracy for class 4 (Count: 61) is: 0.6557377049180327\n",
      "Accuracy for class 5 (Count: 7) is: 0.8571428571428571\n",
      "Accuracy for class 6 (Count: 16) is: 1.0\n",
      "Accuracy for class 7 (Count: 25) is: 0.68\n"
     ]
    }
   ],
   "source": [
    "tuned = \"/Users/gsrinivas37/Downloads/models_research_download_tuned_d1/exported_tuned_model_d1/saved_model\"\n",
    "compute_accuracy(root_dir, tuned)"
   ]
  },
  {
   "cell_type": "code",
   "execution_count": 5,
   "id": "e2188076",
   "metadata": {},
   "outputs": [
    {
     "name": "stdout",
     "output_type": "stream",
     "text": [
      "Loading model...Done! Took 20.85518717765808 seconds\n",
      "loading annotations into memory...\n",
      "Done (t=0.00s)\n",
      "creating index...\n",
      "index created!\n"
     ]
    },
    {
     "name": "stderr",
     "output_type": "stream",
     "text": [
      "2023-04-29 03:33:33.572998: I tensorflow/core/common_runtime/executor.cc:1197] [/device:CPU:0] (DEBUG INFO) Executor start aborting (this does not indicate an error and you can ignore this message): INVALID_ARGUMENT: You must feed a value for placeholder tensor 'input_tensor' with dtype uint8 and shape [1,?,?,3]\n",
      "\t [[{{node input_tensor}}]]\n"
     ]
    },
    {
     "name": "stdout",
     "output_type": "stream",
     "text": [
      "Total Accuracy is: 0.5503355704697986\n",
      "Accuracy for class 1 (Count: 51) is: 0.0\n",
      "Accuracy for class 2 (Count: 31) is: 0.0\n",
      "Accuracy for class 3 (Count: 107) is: 0.9719626168224299\n",
      "Accuracy for class 4 (Count: 61) is: 0.3770491803278688\n",
      "Accuracy for class 5 (Count: 7) is: 1.0\n",
      "Accuracy for class 6 (Count: 16) is: 0.9375\n",
      "Accuracy for class 7 (Count: 25) is: 0.6\n"
     ]
    }
   ],
   "source": [
    "orignal = \"/Users/gsrinivas37/My Drive/exported_model_vast_ai/saved_model\"\n",
    "compute_accuracy(root_dir, orignal)"
   ]
  },
  {
   "cell_type": "code",
   "execution_count": 6,
   "id": "d7828d40",
   "metadata": {},
   "outputs": [
    {
     "name": "stdout",
     "output_type": "stream",
     "text": [
      "Loading model...Done! Took 21.499446153640747 seconds\n",
      "loading annotations into memory...\n",
      "Done (t=0.00s)\n",
      "creating index...\n",
      "index created!\n"
     ]
    },
    {
     "name": "stderr",
     "output_type": "stream",
     "text": [
      "2023-04-29 03:35:27.412669: I tensorflow/core/common_runtime/executor.cc:1197] [/device:CPU:0] (DEBUG INFO) Executor start aborting (this does not indicate an error and you can ignore this message): INVALID_ARGUMENT: You must feed a value for placeholder tensor 'input_tensor' with dtype uint8 and shape [1,?,?,3]\n",
      "\t [[{{node input_tensor}}]]\n"
     ]
    },
    {
     "name": "stdout",
     "output_type": "stream",
     "text": [
      "Total Accuracy is: 0.5503355704697986\n",
      "Accuracy for class 1 (Count: 51) is: 0.0\n",
      "Accuracy for class 2 (Count: 31) is: 0.0\n",
      "Accuracy for class 3 (Count: 107) is: 0.9813084112149533\n",
      "Accuracy for class 4 (Count: 61) is: 0.4098360655737705\n",
      "Accuracy for class 5 (Count: 7) is: 1.0\n",
      "Accuracy for class 6 (Count: 16) is: 1.0\n",
      "Accuracy for class 7 (Count: 25) is: 0.44\n"
     ]
    }
   ],
   "source": [
    "d1_weights = \"/Users/gsrinivas37/My Drive/exported_model_d1/saved_model\"\n",
    "compute_accuracy(root_dir, d1_weights)"
   ]
  },
  {
   "cell_type": "code",
   "execution_count": 7,
   "id": "8210bb15",
   "metadata": {},
   "outputs": [
    {
     "name": "stdout",
     "output_type": "stream",
     "text": [
      "Loading model...Done! Took 17.305257320404053 seconds\n",
      "loading annotations into memory...\n",
      "Done (t=0.00s)\n",
      "creating index...\n",
      "index created!\n"
     ]
    },
    {
     "name": "stderr",
     "output_type": "stream",
     "text": [
      "2023-04-29 03:37:19.486033: I tensorflow/core/common_runtime/executor.cc:1197] [/device:CPU:0] (DEBUG INFO) Executor start aborting (this does not indicate an error and you can ignore this message): INVALID_ARGUMENT: You must feed a value for placeholder tensor 'input_tensor' with dtype uint8 and shape [1,?,?,3]\n",
      "\t [[{{node input_tensor}}]]\n"
     ]
    },
    {
     "name": "stdout",
     "output_type": "stream",
     "text": [
      "Total Accuracy is: 0.5033557046979866\n",
      "Accuracy for class 1 (Count: 51) is: 0.0\n",
      "Accuracy for class 2 (Count: 31) is: 0.0\n",
      "Accuracy for class 3 (Count: 107) is: 0.9719626168224299\n",
      "Accuracy for class 4 (Count: 61) is: 0.19672131147540983\n",
      "Accuracy for class 5 (Count: 7) is: 1.0\n",
      "Accuracy for class 6 (Count: 16) is: 1.0\n",
      "Accuracy for class 7 (Count: 25) is: 0.44\n"
     ]
    }
   ],
   "source": [
    "d0_weights = \"/Users/gsrinivas37/My Drive/exported_model_d0/saved_model\"\n",
    "compute_accuracy(root_dir, d0_weights)"
   ]
  },
  {
   "cell_type": "code",
   "execution_count": 8,
   "id": "d72ae26e",
   "metadata": {},
   "outputs": [
    {
     "name": "stdout",
     "output_type": "stream",
     "text": [
      "Loading model...Done! Took 22.851863145828247 seconds\n",
      "loading annotations into memory...\n",
      "Done (t=0.00s)\n",
      "creating index...\n",
      "index created!\n"
     ]
    },
    {
     "name": "stderr",
     "output_type": "stream",
     "text": [
      "2023-04-29 03:38:33.512320: I tensorflow/core/common_runtime/executor.cc:1197] [/device:CPU:0] (DEBUG INFO) Executor start aborting (this does not indicate an error and you can ignore this message): INVALID_ARGUMENT: You must feed a value for placeholder tensor 'input_tensor' with dtype uint8 and shape [1,?,?,3]\n",
      "\t [[{{node input_tensor}}]]\n"
     ]
    },
    {
     "name": "stdout",
     "output_type": "stream",
     "text": [
      "Found more than one...\n",
      "Found more than one...\n",
      "Found more than one...\n",
      "Total Accuracy is: 0.5771812080536913\n",
      "Accuracy for class 1 (Count: 51) is: 0.0\n",
      "Accuracy for class 2 (Count: 31) is: 0.0\n",
      "Accuracy for class 3 (Count: 107) is: 0.9906542056074766\n",
      "Accuracy for class 4 (Count: 61) is: 0.5409836065573771\n",
      "Accuracy for class 5 (Count: 7) is: 0.42857142857142855\n",
      "Accuracy for class 6 (Count: 16) is: 0.9375\n",
      "Accuracy for class 7 (Count: 25) is: 0.6\n"
     ]
    }
   ],
   "source": [
    "d2_weights = \"/Users/gsrinivas37/My Drive/exported_model_d2/saved_model\"\n",
    "compute_accuracy(root_dir, d2_weights)"
   ]
  },
  {
   "cell_type": "code",
   "execution_count": null,
   "id": "a33a13cf",
   "metadata": {},
   "outputs": [],
   "source": []
  }
 ],
 "metadata": {
  "kernelspec": {
   "display_name": "Python 3 (ipykernel)",
   "language": "python",
   "name": "python3"
  },
  "language_info": {
   "codemirror_mode": {
    "name": "ipython",
    "version": 3
   },
   "file_extension": ".py",
   "mimetype": "text/x-python",
   "name": "python",
   "nbconvert_exporter": "python",
   "pygments_lexer": "ipython3",
   "version": "3.9.16"
  }
 },
 "nbformat": 4,
 "nbformat_minor": 5
}
