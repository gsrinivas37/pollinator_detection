{
 "cells": [
  {
   "cell_type": "code",
   "execution_count": 1,
   "id": "253d579b",
   "metadata": {},
   "outputs": [
    {
     "name": "stderr",
     "output_type": "stream",
     "text": [
      "2023-04-22 17:44:11.334955: I tensorflow/core/platform/cpu_feature_guard.cc:182] This TensorFlow binary is optimized to use available CPU instructions in performance-critical operations.\n",
      "To enable the following instructions: AVX2 FMA, in other operations, rebuild TensorFlow with the appropriate compiler flags.\n"
     ]
    }
   ],
   "source": [
    "from shared import *"
   ]
  },
  {
   "cell_type": "code",
   "execution_count": 2,
   "id": "d5f9acc8",
   "metadata": {},
   "outputs": [
    {
     "name": "stdout",
     "output_type": "stream",
     "text": [
      "Loading model...Done! Took 20.435386896133423 seconds\n",
      "loading annotations into memory...\n",
      "Done (t=0.00s)\n",
      "creating index...\n",
      "index created!\n"
     ]
    },
    {
     "name": "stderr",
     "output_type": "stream",
     "text": [
      "2023-04-22 17:44:36.744401: I tensorflow/core/common_runtime/executor.cc:1197] [/device:CPU:0] (DEBUG INFO) Executor start aborting (this does not indicate an error and you can ignore this message): INVALID_ARGUMENT: You must feed a value for placeholder tensor 'input_tensor' with dtype uint8 and shape [1,?,?,3]\n",
      "\t [[{{node input_tensor}}]]\n"
     ]
    },
    {
     "name": "stdout",
     "output_type": "stream",
     "text": [
      "Total Accuracy is: 0.5\n",
      "Accuracy for class 1 is: 0.0\n",
      "Accuracy for class 2 is: 0.0\n",
      "Accuracy for class 3 is: 0.9468085106382979\n",
      "Accuracy for class 4 is: 0.10909090909090909\n",
      "Accuracy for class 5 is: 1.0\n",
      "Accuracy for class 6 is: 1.0\n",
      "Accuracy for class 7 is: 0.2857142857142857\n"
     ]
    }
   ],
   "source": [
    "path = \"/Users/gsrinivas37/work/exported_model_vast_ai/saved_model\"\n",
    "root_dir = '/Users/gsrinivas37/Downloads/Pollinators-17_COCO_fullsize_aug_null_nf/test'    \n",
    "\n",
    "compute_accuracy(root_dir, path)"
   ]
  }
 ],
 "metadata": {
  "kernelspec": {
   "display_name": "Python 3 (ipykernel)",
   "language": "python",
   "name": "python3"
  },
  "language_info": {
   "codemirror_mode": {
    "name": "ipython",
    "version": 3
   },
   "file_extension": ".py",
   "mimetype": "text/x-python",
   "name": "python",
   "nbconvert_exporter": "python",
   "pygments_lexer": "ipython3",
   "version": "3.9.16"
  }
 },
 "nbformat": 4,
 "nbformat_minor": 5
}
