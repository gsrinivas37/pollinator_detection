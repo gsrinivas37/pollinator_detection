{
 "cells": [
  {
   "cell_type": "code",
   "execution_count": null,
   "id": "32defadb",
   "metadata": {},
   "outputs": [],
   "source": [
    "!wget https://github.com/protocolbuffers/protobuf/releases/download/v22.3/protoc-22.3-linux-x86_64.zip\n",
    "!unzip /root/protoc-22.3-linux-x86_64.zip"
   ]
  },
  {
   "cell_type": "code",
   "execution_count": null,
   "id": "6a45f5be",
   "metadata": {},
   "outputs": [],
   "source": [
    "!git clone https://github.com/tensorflow/models.git\n",
    "%cd models/research/"
   ]
  },
  {
   "cell_type": "code",
   "execution_count": null,
   "id": "e4041b29",
   "metadata": {},
   "outputs": [],
   "source": [
    "# From within TensorFlow/models/research/\n",
    "!/root/bin/protoc object_detection/protos/*.proto --python_out=.\n",
    "\n",
    "!pip install cython\n",
    "\n",
    "# From within TensorFlow/models/research/\n",
    "!cp object_detection/packages/tf2/setup.py .\n",
    "!python -m pip install .\n",
    "\n",
    "# From within TensorFlow/models/research/\n",
    "!python object_detection/builders/model_builder_tf2_test.py"
   ]
  },
  {
   "cell_type": "code",
   "execution_count": null,
   "id": "c5e5e298",
   "metadata": {},
   "outputs": [],
   "source": [
    "!apt install libgl1-mesa-glx -y"
   ]
  },
  {
   "cell_type": "code",
   "execution_count": null,
   "id": "56603dc6",
   "metadata": {},
   "outputs": [],
   "source": [
    "import tensorflow as tf\n",
    "print(\"Num GPUs Available: \", len(tf.config.list_physical_devices('GPU')))"
   ]
  },
  {
   "cell_type": "code",
   "execution_count": null,
   "id": "9f209619",
   "metadata": {},
   "outputs": [],
   "source": [
    "!wget --load-cookies /tmp/cookies.txt \"https://docs.google.com/uc?export=download&confirm=$(wget --quiet --save-cookies /tmp/cookies.txt --keep-session-cookies --no-check-certificate 'https://docs.google.com/uc?export=download&id=1sit1aTWNI4WZuc8rlWHDnIuI-Jako28_' -O- | sed -rn 's/.*confirm=([0-9A-Za-z_]+).*/\\1\\n/p')&id=1sit1aTWNI4WZuc8rlWHDnIuI-Jako28_\" -O pollinator_detection.zip && rm -rf /tmp/cookies.txt"
   ]
  },
  {
   "cell_type": "code",
   "execution_count": null,
   "id": "1976167b",
   "metadata": {},
   "outputs": [],
   "source": [
    "!wget http://download.tensorflow.org/models/object_detection/tf2/20200711/efficientdet_d6_coco17_tpu-32.tar.gz"
   ]
  },
  {
   "cell_type": "code",
   "execution_count": null,
   "id": "632c6b39",
   "metadata": {},
   "outputs": [],
   "source": [
    "!tar -xvf efficientdet_d6_coco17_tpu-32.tar.gz "
   ]
  },
  {
   "cell_type": "code",
   "execution_count": null,
   "id": "deaf659d",
   "metadata": {},
   "outputs": [],
   "source": [
    "!unzip pollinator_detection.zip"
   ]
  },
  {
   "cell_type": "code",
   "execution_count": null,
   "id": "702097c3",
   "metadata": {},
   "outputs": [],
   "source": [
    "!mv pollinator_detection/* ."
   ]
  },
  {
   "cell_type": "code",
   "execution_count": null,
   "id": "781f3d70",
   "metadata": {
    "scrolled": false
   },
   "outputs": [],
   "source": [
    "!python object_detection/model_main_tf2.py --pipeline_config_path=efficientdet_d6.config --model_dir=my_model --alsologtostderr"
   ]
  }
 ],
 "metadata": {
  "kernelspec": {
   "display_name": "Python 3 (ipykernel)",
   "language": "python",
   "name": "python3"
  },
  "language_info": {
   "codemirror_mode": {
    "name": "ipython",
    "version": 3
   },
   "file_extension": ".py",
   "mimetype": "text/x-python",
   "name": "python",
   "nbconvert_exporter": "python",
   "pygments_lexer": "ipython3",
   "version": "3.8.10"
  }
 },
 "nbformat": 4,
 "nbformat_minor": 5
}
