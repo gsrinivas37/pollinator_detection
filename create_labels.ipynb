{
 "cells": [
  {
   "cell_type": "code",
   "execution_count": 1,
   "id": "68e40afd",
   "metadata": {
    "scrolled": false
   },
   "outputs": [
    {
     "ename": "FileNotFoundError",
     "evalue": "[Errno 2] No such file or directory: '/Users/gsrinivas37/Downloads/Pollinators-17_COCO_fullsize_aug_null_nf/train/images'",
     "output_type": "error",
     "traceback": [
      "\u001b[0;31m---------------------------------------------------------------------------\u001b[0m",
      "\u001b[0;31mFileNotFoundError\u001b[0m                         Traceback (most recent call last)",
      "Cell \u001b[0;32mIn[1], line 6\u001b[0m\n\u001b[1;32m      4\u001b[0m train_dir \u001b[38;5;241m=\u001b[39m \u001b[38;5;124m\"\u001b[39m\u001b[38;5;124m/Users/gsrinivas37/Downloads/Pollinators-17_COCO_fullsize_aug_null_nf/train\u001b[39m\u001b[38;5;124m\"\u001b[39m\n\u001b[1;32m      5\u001b[0m \u001b[38;5;66;03m# train_dir = \"C:\\\\Users\\\\sgudla\\\\Downloads\\\\Pollinators-8\\\\train\"\u001b[39;00m\n\u001b[0;32m----> 6\u001b[0m \u001b[43msplit_data\u001b[49m\u001b[43m(\u001b[49m\u001b[43mtrain_dir\u001b[49m\u001b[43m)\u001b[49m\n\u001b[1;32m      7\u001b[0m \u001b[38;5;66;03m# load_data(train_dir, max_cnt=10, show_image=True)\u001b[39;00m\n",
      "File \u001b[0;32m~/work/git/cs7643/cs7643-final/shared.py:82\u001b[0m, in \u001b[0;36msplit_data\u001b[0;34m(directory, ratio, train_csv, test_csv)\u001b[0m\n\u001b[1;32m     79\u001b[0m lbl_dir \u001b[38;5;241m=\u001b[39m os\u001b[38;5;241m.\u001b[39mpath\u001b[38;5;241m.\u001b[39mjoin(directory, \u001b[38;5;124m\"\u001b[39m\u001b[38;5;124mlabels\u001b[39m\u001b[38;5;124m\"\u001b[39m)\n\u001b[1;32m     81\u001b[0m i \u001b[38;5;241m=\u001b[39m \u001b[38;5;241m0\u001b[39m\n\u001b[0;32m---> 82\u001b[0m files \u001b[38;5;241m=\u001b[39m \u001b[43mos\u001b[49m\u001b[38;5;241;43m.\u001b[39;49m\u001b[43mlistdir\u001b[49m\u001b[43m(\u001b[49m\u001b[43mimg_dir\u001b[49m\u001b[43m)\u001b[49m\n\u001b[1;32m     83\u001b[0m \u001b[38;5;28mprint\u001b[39m(\u001b[38;5;124mf\u001b[39m\u001b[38;5;124m\"\u001b[39m\u001b[38;5;124mNumber of files: \u001b[39m\u001b[38;5;132;01m{\u001b[39;00m\u001b[38;5;28mlen\u001b[39m(files)\u001b[38;5;132;01m}\u001b[39;00m\u001b[38;5;124m\"\u001b[39m)\n\u001b[1;32m     84\u001b[0m all_idx \u001b[38;5;241m=\u001b[39m np\u001b[38;5;241m.\u001b[39marange(\u001b[38;5;28mlen\u001b[39m(files))\n",
      "\u001b[0;31mFileNotFoundError\u001b[0m: [Errno 2] No such file or directory: '/Users/gsrinivas37/Downloads/Pollinators-17_COCO_fullsize_aug_null_nf/train/images'"
     ]
    }
   ],
   "source": [
    "from shared import *\n",
    "\n",
    "train_dir = \"C:\\\\Users\\\\sgudla\\\\Downloads\\\\Pollinators-15_YOLOv7_640x640\\\\train\"\n",
    "train_dir = \"/Users/gsrinivas37/Downloads/Pollinators-17_COCO_fullsize_aug_null_nf/train\"\n",
    "# train_dir = \"C:\\\\Users\\\\sgudla\\\\Downloads\\\\Pollinators-8\\\\train\"\n",
    "split_data(train_dir)\n",
    "# load_data(train_dir, max_cnt=10, show_image=True)"
   ]
  },
  {
   "cell_type": "code",
   "execution_count": 2,
   "id": "33fb0017",
   "metadata": {},
   "outputs": [
    {
     "name": "stderr",
     "output_type": "stream",
     "text": [
      "Cloning into 'Tensorflow-Object-Detection-with-Tensorflow-2.0'...\n",
      "Updating files:  88% (16/18)\n",
      "Updating files:  94% (17/18)\n",
      "Updating files: 100% (18/18)\n",
      "Updating files: 100% (18/18), done.\n"
     ]
    }
   ],
   "source": [
    "!git clone https://github.com/BenGreenfield825/Tensorflow-Object-Detection-with-Tensorflow-2.0.git"
   ]
  },
  {
   "cell_type": "code",
   "execution_count": null,
   "id": "7cb42923",
   "metadata": {},
   "outputs": [],
   "source": []
  }
 ],
 "metadata": {
  "kernelspec": {
   "display_name": "Python 3 (ipykernel)",
   "language": "python",
   "name": "python3"
  },
  "language_info": {
   "codemirror_mode": {
    "name": "ipython",
    "version": 3
   },
   "file_extension": ".py",
   "mimetype": "text/x-python",
   "name": "python",
   "nbconvert_exporter": "python",
   "pygments_lexer": "ipython3",
   "version": "3.9.16"
  }
 },
 "nbformat": 4,
 "nbformat_minor": 5
}
